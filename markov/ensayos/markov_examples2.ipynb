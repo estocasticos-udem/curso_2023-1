{
 "cells": [
  {
   "cell_type": "code",
   "execution_count": 63,
   "metadata": {},
   "outputs": [],
   "source": [
    "from pgmpy.models import MarkovNetwork\n",
    "from pgmpy.factors.discrete import DiscreteFactor\n",
    "from pgmpy.models import MarkovChain as MC\n",
    "from pgmpy.factors.discrete import State\n",
    "from pgmpy.base import DAG\n",
    "import numpy as np\n",
    "import matplotlib.pyplot as plt\n",
    "import networkx as nx"
   ]
  },
  {
   "attachments": {},
   "cell_type": "markdown",
   "metadata": {},
   "source": [
    "Una profesora que se encuentra dictando un curso procesos estocásticos  y cada semana puede estar al día o puede haberse atrasado en lo que respecta a la calificación de trabajos.  \n",
    "* Si está al día en una semana determinada, la probabilidad de que esté al día (o atrasado) en la próxima semana es 0.8 (o 0.2, respectivamente). \n",
    "* Si está atrasada en la semana dada, la probabilidad de que esté al día (o atrasada) en la próxima semana es 0.6 (o 0.4, respectivamente). \n",
    "\n",
    "Si se supone que estas probabilidades no dependen de si estuvo al día o atrasada en semanas anteriores. Determine si el proceso se puede considerar como una cadena de Markov y se es así, especifíquela.\n",
    "\n",
    "Ver ejemplo: https://dlsun.github.io/symbulate/mc.html"
   ]
  },
  {
   "cell_type": "code",
   "execution_count": 68,
   "metadata": {},
   "outputs": [],
   "source": [
    "model = MC()\n",
    "model.add_variable('grade', 2)\n",
    "grade_tm = {0: {0: 0.8, 1: 0.2}, \n",
    "            1: {0: 0.6, 1: 0.4}}\n",
    "grade_tm_matrix = np.array([[0.8, 0.2], \n",
    "                            [0.6, 0.4]])\n",
    "model.add_transition_model('grade', grade_tm)\n",
    "\n",
    "\n"
   ]
  },
  {
   "cell_type": "code",
   "execution_count": 69,
   "metadata": {},
   "outputs": [
    {
     "data": {
      "text/html": [
       "<div>\n",
       "<style scoped>\n",
       "    .dataframe tbody tr th:only-of-type {\n",
       "        vertical-align: middle;\n",
       "    }\n",
       "\n",
       "    .dataframe tbody tr th {\n",
       "        vertical-align: top;\n",
       "    }\n",
       "\n",
       "    .dataframe thead th {\n",
       "        text-align: right;\n",
       "    }\n",
       "</style>\n",
       "<table border=\"1\" class=\"dataframe\">\n",
       "  <thead>\n",
       "    <tr style=\"text-align: right;\">\n",
       "      <th></th>\n",
       "      <th>grade</th>\n",
       "    </tr>\n",
       "  </thead>\n",
       "  <tbody>\n",
       "    <tr>\n",
       "      <th>0</th>\n",
       "      <td>0</td>\n",
       "    </tr>\n",
       "    <tr>\n",
       "      <th>1</th>\n",
       "      <td>0</td>\n",
       "    </tr>\n",
       "    <tr>\n",
       "      <th>2</th>\n",
       "      <td>1</td>\n",
       "    </tr>\n",
       "    <tr>\n",
       "      <th>3</th>\n",
       "      <td>1</td>\n",
       "    </tr>\n",
       "    <tr>\n",
       "      <th>4</th>\n",
       "      <td>1</td>\n",
       "    </tr>\n",
       "    <tr>\n",
       "      <th>5</th>\n",
       "      <td>0</td>\n",
       "    </tr>\n",
       "    <tr>\n",
       "      <th>6</th>\n",
       "      <td>0</td>\n",
       "    </tr>\n",
       "    <tr>\n",
       "      <th>7</th>\n",
       "      <td>0</td>\n",
       "    </tr>\n",
       "    <tr>\n",
       "      <th>8</th>\n",
       "      <td>1</td>\n",
       "    </tr>\n",
       "    <tr>\n",
       "      <th>9</th>\n",
       "      <td>1</td>\n",
       "    </tr>\n",
       "  </tbody>\n",
       "</table>\n",
       "</div>"
      ],
      "text/plain": [
       "  grade\n",
       "0     0\n",
       "1     0\n",
       "2     1\n",
       "3     1\n",
       "4     1\n",
       "5     0\n",
       "6     0\n",
       "7     0\n",
       "8     1\n",
       "9     1"
      ]
     },
     "execution_count": 69,
     "metadata": {},
     "output_type": "execute_result"
    }
   ],
   "source": [
    "model.sample([State('grade', 0)],size=10)"
   ]
  },
  {
   "cell_type": "code",
   "execution_count": 104,
   "metadata": {},
   "outputs": [
    {
     "name": "stdout",
     "output_type": "stream",
     "text": [
      "['Up-to-Date', 'Behind']\n",
      "[('Up-to-Date', 'Up-to-Date'), ('Up-to-Date', 'Behind'), ('Behind', 'Up-to-Date'), ('Behind', 'Behind')]\n",
      "<class 'pgmpy.base.DAG.DAG'>\n",
      "True\n"
     ]
    }
   ],
   "source": [
    "G = DAG()\n",
    "G.add_nodes_from(nodes=['Up-to-Date', 'Behind'])\n",
    "G.add_edges_from(ebunch=[('Up-to-Date', 'Up-to-Date'), ('Up-to-Date', 'Behind'), \n",
    "                         ('Behind', 'Up-to-Date'), ('Behind', 'Behind')])\n",
    "print(G.nodes())\n",
    "print(G.edges())\n",
    "print(type(G))\n",
    "print(isinstance(G, nx.DiGraph))"
   ]
  },
  {
   "cell_type": "code",
   "execution_count": 105,
   "metadata": {},
   "outputs": [
    {
     "data": {
      "image/png": "[encoded data removed]",
      "text/plain": [
       "<Figure size 640x480 with 1 Axes>"
      ]
     },
     "metadata": {},
     "output_type": "display_data"
    }
   ],
   "source": [
    "\n",
    "diagram = nx.DiGraph()\n",
    "diagram.add_nodes_from(G.nodes())\n",
    "diagram.add_edges_from(G.edges())\n",
    "\n",
    "options = {  \n",
    "    \"node_size\": 500,\n",
    "    \"edgecolors\": \"black\",\n",
    "    \"linewidths\": 2,\n",
    "    \"width\": 1,\n",
    "}\n",
    "\n",
    "nx.draw_networkx(diagram,**options)"
   ]
  },
  {
   "attachments": {},
   "cell_type": "markdown",
   "metadata": {},
   "source": [
    "## Enlaces\n",
    "* https://ipython-books.github.io/131-simulating-a-discrete-time-markov-chain/\n",
    "* https://ipython-books.github.io/\n",
    "* https://github.com/ipython-books/cookbook-2nd-code/blob/master/chapter13_stochastic/01_markov.ipynb\n",
    "* http://www.emma-project.org/latest/\n",
    "* https://www.datacamp.com/tutorial/markov-chains-python-tutorial\n",
    "* https://github.com/jujuwong21/21344-Final-Project\n",
    "* https://github.com/NikosNikolopoulos/StochasticProcesses\n",
    "* https://www.cs.bu.edu/fac/crovella/cs132-book/L11MarkovChains.html"
   ]
  }
 ],
 "metadata": {
  "kernelspec": {
   "display_name": "Python 3",
   "language": "python",
   "name": "python3"
  },
  "language_info": {
   "codemirror_mode": {
    "name": "ipython",
    "version": 3
   },
   "file_extension": ".py",
   "mimetype": "text/x-python",
   "name": "python",
   "nbconvert_exporter": "python",
   "pygments_lexer": "ipython3",
   "version": "3.9.13"
  },
  "orig_nbformat": 4
 },
 "nbformat": 4,
 "nbformat_minor": 2
}
