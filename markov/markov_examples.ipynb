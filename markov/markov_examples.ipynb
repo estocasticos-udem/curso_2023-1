{
 "cells": [
  {
   "cell_type": "code",
   "execution_count": 1,
   "metadata": {},
   "outputs": [],
   "source": [
    "from symbulate import *\n",
    "%matplotlib inline"
   ]
  },
  {
   "attachments": {},
   "cell_type": "markdown",
   "metadata": {},
   "source": [
    "Una profesora que se encuentra dictando un curso procesos estocásticos  y cada semana puede estar al día o puede haberse atrasado en lo que respecta a la calificación de trabajos.  \n",
    "* Si está al día en una semana determinada, la probabilidad de que esté al día (o atrasado) en la próxima semana es 0.8 (o 0.2, respectivamente). \n",
    "* Si está atrasada en la semana dada, la probabilidad de que esté al día (o atrasada) en la próxima semana es 0.6 (o 0.4, respectivamente). \n",
    "\n",
    "Si se supone que estas probabilidades no dependen de si estuvo al día o atrasada en semanas anteriores. Determine si el proceso se puede considerar como una cadena de Markov y se es así, especifíquela.\n",
    "\n",
    "Ver ejemplo: https://dlsun.github.io/symbulate/mc.html"
   ]
  },
  {
   "cell_type": "code",
   "execution_count": 3,
   "metadata": {},
   "outputs": [],
   "source": [
    "states = [\"Up-to-Date\", \"Behind\"]\n",
    "\n",
    "TransitionMatrix = [[0.8, 0.2],\n",
    "                    [0.6, 0.4]]\n",
    "\n",
    "InitialDistribution = [1, 0] # sunny on Sunday\n",
    "\n",
    "X = MarkovChain(TransitionMatrix, InitialDistribution, states)"
   ]
  },
  {
   "cell_type": "code",
   "execution_count": 6,
   "metadata": {},
   "outputs": [
    {
     "data": {
      "text/html": [
       "\n",
       "<table>\n",
       "  <thead>\n",
       "    <th width=\"80%\">Value</th>\n",
       "    <th width=\"20%\">Relative Frequency</th>\n",
       "  </thead>\n",
       "  <tbody>\n",
       "    <tr><td>Behind</td><td>0.198</td></tr><tr><td>Up-to-Date</td><td>0.802</td></tr><tr><td><b>Total</b></td><td><b>1.0</b></td></tr>\n",
       "  </tbody>\n",
       "</table>\n"
      ],
      "text/plain": [
       "Value      Relative Frequency\n",
       "Behind     0.198\n",
       "Up-to-Date 0.802\n",
       "     Total 1.0"
      ]
     },
     "execution_count": 6,
     "metadata": {},
     "output_type": "execute_result"
    }
   ],
   "source": [
    "X[1].sim(1000).tabulate(normalize = True)"
   ]
  },
  {
   "attachments": {},
   "cell_type": "markdown",
   "metadata": {},
   "source": [
    "## Enlaces\n",
    "* https://ipython-books.github.io/131-simulating-a-discrete-time-markov-chain/\n",
    "* https://ipython-books.github.io/\n",
    "* https://github.com/ipython-books/cookbook-2nd-code/blob/master/chapter13_stochastic/01_markov.ipynb\n",
    "* http://www.emma-project.org/latest/\n",
    "* https://www.datacamp.com/tutorial/markov-chains-python-tutorial\n",
    "* https://github.com/jujuwong21/21344-Final-Project\n",
    "* https://github.com/NikosNikolopoulos/StochasticProcesses\n",
    "* https://www.cs.bu.edu/fac/crovella/cs132-book/L11MarkovChains.html"
   ]
  }
 ],
 "metadata": {
  "kernelspec": {
   "display_name": "Python 3",
   "language": "python",
   "name": "python3"
  },
  "language_info": {
   "codemirror_mode": {
    "name": "ipython",
    "version": 3
   },
   "file_extension": ".py",
   "mimetype": "text/x-python",
   "name": "python",
   "nbconvert_exporter": "python",
   "pygments_lexer": "ipython3",
   "version": "3.9.13"
  },
  "orig_nbformat": 4
 },
 "nbformat": 4,
 "nbformat_minor": 2
}
