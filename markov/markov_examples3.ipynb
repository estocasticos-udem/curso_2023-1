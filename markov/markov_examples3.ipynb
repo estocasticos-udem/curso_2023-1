{
 "cells": [
  {
   "cell_type": "code",
   "execution_count": 1,
   "metadata": {},
   "outputs": [],
   "source": [
    "from datascience import *\n",
    "from prob140 import *\n",
    "%matplotlib inline\n",
    "import matplotlib.pyplot as plt\n",
    "import numpy as np\n",
    "plt.style.use('fivethirtyeight')"
   ]
  },
  {
   "attachments": {},
   "cell_type": "markdown",
   "metadata": {},
   "source": [
    "Una profesora que se encuentra dictando un curso procesos estocásticos  y cada semana puede estar al día o puede haberse atrasado en lo que respecta a la calificación de trabajos.  \n",
    "* Si está al día en una semana determinada, la probabilidad de que esté al día (o atrasado) en la próxima semana es 0.8 (o 0.2, respectivamente). \n",
    "* Si está atrasada en la semana dada, la probabilidad de que esté al día (o atrasada) en la próxima semana es 0.6 (o 0.4, respectivamente). \n",
    "\n",
    "Si se supone que estas probabilidades no dependen de si estuvo al día o atrasada en semanas anteriores. Determine si el proceso se puede considerar como una cadena de Markov y se es así, especifíquela.\n",
    "\n",
    "Ver ejemplo: https://dlsun.github.io/symbulate/mc.html"
   ]
  },
  {
   "cell_type": "code",
   "execution_count": 2,
   "metadata": {},
   "outputs": [
    {
     "data": {
      "text/html": [
       "<table border=\"1\" class=\"dataframe\">\n",
       "    <thead>\n",
       "        <tr>\n",
       "            <th>Source</th> <th>Target</th> <th>Probability</th>\n",
       "        </tr>\n",
       "    </thead>\n",
       "    <tbody>\n",
       "        <tr>\n",
       "            <td>Up-to-Date</td> <td>Up-to-Date</td> <td>0.8        </td>\n",
       "        </tr>\n",
       "        <tr>\n",
       "            <td>Up-to-Date</td> <td>Behind    </td> <td>0.2        </td>\n",
       "        </tr>\n",
       "        <tr>\n",
       "            <td>Behind    </td> <td>Up-to-Date</td> <td>0.6        </td>\n",
       "        </tr>\n",
       "        <tr>\n",
       "            <td>Behind    </td> <td>Behind    </td> <td>0.4        </td>\n",
       "        </tr>\n",
       "    </tbody>\n",
       "</table>"
      ],
      "text/plain": [
       "Source     | Target     | Probability\n",
       "Up-to-Date | Up-to-Date | 0.8\n",
       "Up-to-Date | Behind     | 0.2\n",
       "Behind     | Up-to-Date | 0.6\n",
       "Behind     | Behind     | 0.4"
      ]
     },
     "execution_count": 2,
     "metadata": {},
     "output_type": "execute_result"
    }
   ],
   "source": [
    "mc_table = Table().states(make_array('Up-to-Date', 'Behind')).transition_probability(make_array(0.8, 0.2, 0.6, 0.4))\n",
    "mc_table\n"
   ]
  },
  {
   "cell_type": "code",
   "execution_count": 4,
   "metadata": {},
   "outputs": [
    {
     "data": {
      "text/html": [
       "<div>\n",
       "<style scoped>\n",
       "    .dataframe tbody tr th:only-of-type {\n",
       "        vertical-align: middle;\n",
       "    }\n",
       "\n",
       "    .dataframe tbody tr th {\n",
       "        vertical-align: top;\n",
       "    }\n",
       "\n",
       "    .dataframe thead th {\n",
       "        text-align: right;\n",
       "    }\n",
       "</style>\n",
       "<table border=\"1\" class=\"dataframe\">\n",
       "  <thead>\n",
       "    <tr style=\"text-align: right;\">\n",
       "      <th></th>\n",
       "      <th>Up-to-Date</th>\n",
       "      <th>Behind</th>\n",
       "    </tr>\n",
       "  </thead>\n",
       "  <tbody>\n",
       "    <tr>\n",
       "      <th>Up-to-Date</th>\n",
       "      <td>0.8</td>\n",
       "      <td>0.2</td>\n",
       "    </tr>\n",
       "    <tr>\n",
       "      <th>Behind</th>\n",
       "      <td>0.6</td>\n",
       "      <td>0.4</td>\n",
       "    </tr>\n",
       "  </tbody>\n",
       "</table>\n",
       "</div>"
      ],
      "text/plain": [
       "            Up-to-Date  Behind\n",
       "Up-to-Date         0.8     0.2\n",
       "Behind             0.6     0.4"
      ]
     },
     "execution_count": 4,
     "metadata": {},
     "output_type": "execute_result"
    }
   ],
   "source": [
    "mc = mc_table.to_markov_chain()\n",
    "mc"
   ]
  },
  {
   "cell_type": "code",
   "execution_count": 10,
   "metadata": {},
   "outputs": [
    {
     "data": {
      "text/html": [
       "<div>\n",
       "<style scoped>\n",
       "    .dataframe tbody tr th:only-of-type {\n",
       "        vertical-align: middle;\n",
       "    }\n",
       "\n",
       "    .dataframe tbody tr th {\n",
       "        vertical-align: top;\n",
       "    }\n",
       "\n",
       "    .dataframe thead th {\n",
       "        text-align: right;\n",
       "    }\n",
       "</style>\n",
       "<table border=\"1\" class=\"dataframe\">\n",
       "  <thead>\n",
       "    <tr style=\"text-align: right;\">\n",
       "      <th></th>\n",
       "      <th>Up-to-Date</th>\n",
       "      <th>Behind</th>\n",
       "    </tr>\n",
       "  </thead>\n",
       "  <tbody>\n",
       "    <tr>\n",
       "      <th>Up-to-Date</th>\n",
       "      <td>0.8</td>\n",
       "      <td>0.2</td>\n",
       "    </tr>\n",
       "    <tr>\n",
       "      <th>Behind</th>\n",
       "      <td>0.6</td>\n",
       "      <td>0.4</td>\n",
       "    </tr>\n",
       "  </tbody>\n",
       "</table>\n",
       "</div>"
      ],
      "text/plain": [
       "            Up-to-Date  Behind\n",
       "Up-to-Date         0.8     0.2\n",
       "Behind             0.6     0.4"
      ]
     },
     "execution_count": 10,
     "metadata": {},
     "output_type": "execute_result"
    }
   ],
   "source": [
    "mc.to_pandas()"
   ]
  },
  {
   "attachments": {},
   "cell_type": "markdown",
   "metadata": {},
   "source": [
    "## Enlaces\n",
    "* https://ipython-books.github.io/131-simulating-a-discrete-time-markov-chain/\n",
    "* https://ipython-books.github.io/\n",
    "* https://github.com/ipython-books/cookbook-2nd-code/blob/master/chapter13_stochastic/01_markov.ipynb\n",
    "* http://www.emma-project.org/latest/\n",
    "* https://www.datacamp.com/tutorial/markov-chains-python-tutorial\n",
    "* https://github.com/jujuwong21/21344-Final-Project\n",
    "* https://github.com/NikosNikolopoulos/StochasticProcesses\n",
    "* https://www.cs.bu.edu/fac/crovella/cs132-book/L11MarkovChains.html\n",
    "* https://towardsdatascience.com/markov-chain-analysis-and-simulation-using-python-4507cee0b06e\n",
    "* https://naysan.ca/2020/07/08/drawing-state-transition-diagrams-in-python/\n",
    "* https://vknight.org/unpeudemath/code/2015/11/15/Visualising-markov-chains.html"
   ]
  }
 ],
 "metadata": {
  "kernelspec": {
   "display_name": "Python 3",
   "language": "python",
   "name": "python3"
  },
  "language_info": {
   "codemirror_mode": {
    "name": "ipython",
    "version": 3
   },
   "file_extension": ".py",
   "mimetype": "text/x-python",
   "name": "python",
   "nbconvert_exporter": "python",
   "pygments_lexer": "ipython3",
   "version": "3.9.13"
  },
  "orig_nbformat": 4
 },
 "nbformat": 4,
 "nbformat_minor": 2
}
